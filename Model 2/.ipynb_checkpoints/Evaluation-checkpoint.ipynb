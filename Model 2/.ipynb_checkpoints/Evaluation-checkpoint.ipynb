{
 "cells": [
  {
   "cell_type": "code",
   "execution_count": 33,
   "metadata": {
    "executionInfo": {
     "elapsed": 7,
     "status": "ok",
     "timestamp": 1637221098918,
     "user": {
      "displayName": "Nguyễn Thanh Trung",
      "photoUrl": "https://lh3.googleusercontent.com/a-/AOh14GhDjbo_KQ5m0lYuNCZeAJzrmJsCzHpAEC7Yn1ze=s64",
      "userId": "10029280560270495038"
     },
     "user_tz": -420
    },
    "id": "EmDYmMUXKx7H"
   },
   "outputs": [],
   "source": [
    "import numpy as np\n",
    "import random\n",
    "import itertools\n",
    "import librosa\n",
    "import librosa.display\n",
    "import soundfile as sf\n",
    "import matplotlib.pyplot as plt\n",
    "import os\n",
    "import pandas as pd \n",
    "import keras.metrics as metrics\n",
    "from PIL import Image\n",
    "from skimage.io import imread\n",
    "from PIL import Image\n",
    "import seaborn as sns\n",
    "\n",
    "import tensorflow as tf\n",
    "from keras.layers import Input, Dense, Flatten, Dropout, Conv2D, MaxPooling2D, BatchNormalization, Activation, LeakyReLU, concatenate\n",
    "from tensorflow.keras.models import Sequential, save_model, load_model, Model\n",
    "from keras.preprocessing.image import load_img, img_to_array\n",
    "from keras.callbacks import ModelCheckpoint\n",
    "import keras.utils as utils"
   ]
  },
  {
   "cell_type": "code",
   "execution_count": 26,
   "metadata": {
    "colab": {
     "base_uri": "https://localhost:8080/"
    },
    "executionInfo": {
     "elapsed": 7,
     "status": "ok",
     "timestamp": 1637220939624,
     "user": {
      "displayName": "Nguyễn Thanh Trung",
      "photoUrl": "https://lh3.googleusercontent.com/a-/AOh14GhDjbo_KQ5m0lYuNCZeAJzrmJsCzHpAEC7Yn1ze=s64",
      "userId": "10029280560270495038"
     },
     "user_tz": -420
    },
    "id": "R-_ixuVIK20T",
    "outputId": "5a187461-0ca1-4b2a-b7b9-07a7eff025c3"
   },
   "outputs": [
    {
     "name": "stdout",
     "output_type": "stream",
     "text": [
      "Drive already mounted at /content/drive/; to attempt to forcibly remount, call drive.mount(\"/content/drive/\", force_remount=True).\n"
     ]
    }
   ],
   "source": [
    "from google.colab import drive\n",
    "drive.mount('/content/drive/')"
   ]
  },
  {
   "cell_type": "code",
   "execution_count": 27,
   "metadata": {
    "colab": {
     "base_uri": "https://localhost:8080/"
    },
    "executionInfo": {
     "elapsed": 27323,
     "status": "ok",
     "timestamp": 1637220968446,
     "user": {
      "displayName": "Nguyễn Thanh Trung",
      "photoUrl": "https://lh3.googleusercontent.com/a-/AOh14GhDjbo_KQ5m0lYuNCZeAJzrmJsCzHpAEC7Yn1ze=s64",
      "userId": "10029280560270495038"
     },
     "user_tz": -420
    },
    "id": "JTV5gBjUK9tS",
    "outputId": "6a72080a-39c2-46e0-8a81-b68793deda7f"
   },
   "outputs": [
    {
     "name": "stdout",
     "output_type": "stream",
     "text": [
      "        valnega_0chroma.png  ...  valpos_135chroma.png\n",
      "0                     255.0  ...                 255.0\n",
      "1                     255.0  ...                 255.0\n",
      "2                     255.0  ...                 255.0\n",
      "3                     255.0  ...                 255.0\n",
      "4                     255.0  ...                 255.0\n",
      "...                     ...  ...                   ...\n",
      "150523                255.0  ...                 255.0\n",
      "150524                255.0  ...                 255.0\n",
      "150525                255.0  ...                 255.0\n",
      "150526                255.0  ...                 255.0\n",
      "150527                255.0  ...                 255.0\n",
      "\n",
      "[150528 rows x 800 columns]\n",
      "(800, 224, 224, 3)\n"
     ]
    }
   ],
   "source": [
    "# Val chroma\n",
    "path = '/content/drive/MyDrive/EE3063_PROJECT/train/data/val_chroma.csv'\n",
    "\n",
    "data1 = pd.read_csv(path)\n",
    "data1.drop('Unnamed: 0', inplace=True, axis=1)\n",
    "print(data1)\n",
    "data1 = data1.to_numpy()\n",
    "data1 = data1.reshape(224,224,3,-1)\n",
    "data1 = data1.transpose(3,0,1,2)\n",
    "data1= data1/255.\n",
    "print(data1.shape)"
   ]
  },
  {
   "cell_type": "code",
   "execution_count": 28,
   "metadata": {
    "colab": {
     "base_uri": "https://localhost:8080/"
    },
    "executionInfo": {
     "elapsed": 24467,
     "status": "ok",
     "timestamp": 1637220994149,
     "user": {
      "displayName": "Nguyễn Thanh Trung",
      "photoUrl": "https://lh3.googleusercontent.com/a-/AOh14GhDjbo_KQ5m0lYuNCZeAJzrmJsCzHpAEC7Yn1ze=s64",
      "userId": "10029280560270495038"
     },
     "user_tz": -420
    },
    "id": "eo_HII8hK_nm",
    "outputId": "3b1b1155-5bda-44f6-e198-24c987b9a504"
   },
   "outputs": [
    {
     "name": "stdout",
     "output_type": "stream",
     "text": [
      "        valnega_0mfcc.png  ...  valpos_135mfcc.png\n",
      "0                   255.0  ...               255.0\n",
      "1                   255.0  ...               255.0\n",
      "2                   255.0  ...               255.0\n",
      "3                   255.0  ...               255.0\n",
      "4                   255.0  ...               255.0\n",
      "...                   ...  ...                 ...\n",
      "150523              255.0  ...               255.0\n",
      "150524              255.0  ...               255.0\n",
      "150525              255.0  ...               255.0\n",
      "150526              255.0  ...               255.0\n",
      "150527              255.0  ...               255.0\n",
      "\n",
      "[150528 rows x 800 columns]\n",
      "(800, 224, 224, 3)\n"
     ]
    }
   ],
   "source": [
    "# Val mfcc\n",
    "path = '/content/drive/MyDrive/EE3063_PROJECT/train/data/val_mfcc.csv'\n",
    "\n",
    "data2 = pd.read_csv(path)\n",
    "data2.drop('Unnamed: 0', inplace=True, axis=1)\n",
    "print(data2)\n",
    "data2 = data2.to_numpy()\n",
    "data2 = data2.reshape(224,224,3,-1)\n",
    "data2 = data2.transpose(3,0,1,2)\n",
    "data2= data2/255.\n",
    "print(data2.shape)"
   ]
  },
  {
   "cell_type": "code",
   "execution_count": 29,
   "metadata": {
    "colab": {
     "base_uri": "https://localhost:8080/"
    },
    "executionInfo": {
     "elapsed": 20407,
     "status": "ok",
     "timestamp": 1637221014542,
     "user": {
      "displayName": "Nguyễn Thanh Trung",
      "photoUrl": "https://lh3.googleusercontent.com/a-/AOh14GhDjbo_KQ5m0lYuNCZeAJzrmJsCzHpAEC7Yn1ze=s64",
      "userId": "10029280560270495038"
     },
     "user_tz": -420
    },
    "id": "F8uyLYXmLBka",
    "outputId": "179028e0-6488-4f67-d29e-1a3cf288ead4"
   },
   "outputs": [
    {
     "name": "stdout",
     "output_type": "stream",
     "text": [
      "        valnega_0spectrogram.png  ...  valpos_135spectrogram.png\n",
      "0                          255.0  ...                      255.0\n",
      "1                          255.0  ...                      255.0\n",
      "2                          255.0  ...                      255.0\n",
      "3                          255.0  ...                      255.0\n",
      "4                          255.0  ...                      255.0\n",
      "...                          ...  ...                        ...\n",
      "150523                     255.0  ...                      255.0\n",
      "150524                     255.0  ...                      255.0\n",
      "150525                     255.0  ...                      255.0\n",
      "150526                     255.0  ...                      255.0\n",
      "150527                     255.0  ...                      255.0\n",
      "\n",
      "[150528 rows x 800 columns]\n",
      "(800, 224, 224, 3)\n"
     ]
    }
   ],
   "source": [
    "# Val spectogram\n",
    "path = '/content/drive/MyDrive/EE3063_PROJECT/train/data/val_spectogram.csv'\n",
    "\n",
    "data3 = pd.read_csv(path)\n",
    "data3.drop('Unnamed: 0', inplace=True, axis=1)\n",
    "print(data3)\n",
    "data3 = data3.to_numpy()\n",
    "data3 = data3.reshape(224,224,3,-1)\n",
    "data3 = data3.transpose(3,0,1,2)\n",
    "data3= data3/255.\n",
    "print(data3.shape)"
   ]
  },
  {
   "cell_type": "markdown",
   "metadata": {
    "id": "a1c09jUuO6uF"
   },
   "source": [
    "Try with model14, 11, 2-8"
   ]
  },
  {
   "cell_type": "code",
   "execution_count": 30,
   "metadata": {
    "executionInfo": {
     "elapsed": 1450,
     "status": "ok",
     "timestamp": 1637221015986,
     "user": {
      "displayName": "Nguyễn Thanh Trung",
      "photoUrl": "https://lh3.googleusercontent.com/a-/AOh14GhDjbo_KQ5m0lYuNCZeAJzrmJsCzHpAEC7Yn1ze=s64",
      "userId": "10029280560270495038"
     },
     "user_tz": -420
    },
    "id": "qw-qWSc5LM8s"
   },
   "outputs": [],
   "source": [
    "filepath = \"/content/drive/MyDrive/EE3063_PROJECT/train/best_model.h5\"\n",
    "new_model = load_model(filepath)"
   ]
  },
  {
   "cell_type": "code",
   "execution_count": 31,
   "metadata": {
    "executionInfo": {
     "elapsed": 82936,
     "status": "ok",
     "timestamp": 1637221098916,
     "user": {
      "displayName": "Nguyễn Thanh Trung",
      "photoUrl": "https://lh3.googleusercontent.com/a-/AOh14GhDjbo_KQ5m0lYuNCZeAJzrmJsCzHpAEC7Yn1ze=s64",
      "userId": "10029280560270495038"
     },
     "user_tz": -420
    },
    "id": "j39Qi2BkLZ0-"
   },
   "outputs": [],
   "source": [
    "#get the predictions for the test data\n",
    "pred = new_model.predict([data1, data2, data3])\n",
    "\n",
    "predicted=np.argmax(pred,axis=1)\n",
    "y = [0]*664 + [1]*136\n",
    "y = np.array(y)"
   ]
  },
  {
   "cell_type": "code",
   "execution_count": 32,
   "metadata": {
    "colab": {
     "base_uri": "https://localhost:8080/"
    },
    "executionInfo": {
     "elapsed": 11,
     "status": "ok",
     "timestamp": 1637221098917,
     "user": {
      "displayName": "Nguyễn Thanh Trung",
      "photoUrl": "https://lh3.googleusercontent.com/a-/AOh14GhDjbo_KQ5m0lYuNCZeAJzrmJsCzHpAEC7Yn1ze=s64",
      "userId": "10029280560270495038"
     },
     "user_tz": -420
    },
    "id": "ihraJg4aP6RA",
    "outputId": "96c8cf52-9b45-47d4-d70d-b519e08718f1"
   },
   "outputs": [
    {
     "name": "stdout",
     "output_type": "stream",
     "text": [
      "TP:  74\n",
      "TN:  581\n",
      "FN:  62\n",
      "FP:  83\n",
      "Precision: 0.471\n",
      "Recall: 0.544\n",
      "F1-score: 0.505\n",
      "Specificity: 0.875\n"
     ]
    }
   ],
   "source": [
    "TP = 0\n",
    "TN = 0\n",
    "FP = 0\n",
    "FN = 0\n",
    "for i in range(len(y)):\n",
    "  if predicted[i] == y[i]:\n",
    "    if y[i] == 1: \n",
    "      TP+=1\n",
    "    else:\n",
    "      TN+=1\n",
    "  else:\n",
    "    if y[i] == 1: \n",
    "      FN+=1\n",
    "    else:\n",
    "      FP+=1\n",
    "print('TP: ', TP)\n",
    "print('TN: ', TN)\n",
    "print('FN: ', FN)\n",
    "print('FP: ', FP)\n",
    "\n",
    "#precision = TP/(TP+FP)\n",
    "precision = TP / (TP + FP)\n",
    "\n",
    "#recall = TP/P\n",
    "recall = TP / (TP+FN)\n",
    "\n",
    "f1 = 2 * precision * recall / (precision + recall)\n",
    "\n",
    "spec = TN /(TN+FP)\n",
    "\n",
    "print(\"Precision: %.3f\" % precision)\n",
    "print(\"Recall: %.3f\" % recall)\n",
    "print(\"F1-score: %.3f\" % f1)\n",
    "print(\"Specificity: %.3f\" % spec)"
   ]
  },
  {
   "cell_type": "code",
   "execution_count": 34,
   "metadata": {
    "colab": {
     "base_uri": "https://localhost:8080/",
     "height": 518
    },
    "executionInfo": {
     "elapsed": 427,
     "status": "ok",
     "timestamp": 1637221206199,
     "user": {
      "displayName": "Nguyễn Thanh Trung",
      "photoUrl": "https://lh3.googleusercontent.com/a-/AOh14GhDjbo_KQ5m0lYuNCZeAJzrmJsCzHpAEC7Yn1ze=s64",
      "userId": "10029280560270495038"
     },
     "user_tz": -420
    },
    "id": "SarIX4XXLbwb",
    "outputId": "76232057-24ff-41c4-a766-b1b477cc6166"
   },
   "outputs": [
    {
     "data": {
      "image/png": "[encoded data removed]",
      "text/plain": [
       "<Figure size 360x360 with 1 Axes>"
      ]
     },
     "metadata": {
      "needs_background": "light"
     },
     "output_type": "display_data"
    },
    {
     "name": "stdout",
     "output_type": "stream",
     "text": [
      "              precision    recall  f1-score   support\n",
      "\n",
      "    Negative       0.90      0.88      0.89       664\n",
      "    Positive       0.47      0.54      0.51       136\n",
      "\n",
      "    accuracy                           0.82       800\n",
      "   macro avg       0.69      0.71      0.70       800\n",
      "weighted avg       0.83      0.82      0.82       800\n",
      "\n"
     ]
    }
   ],
   "source": [
    "from sklearn.metrics import confusion_matrix\n",
    "from sklearn.metrics import classification_report\n",
    "\n",
    "cm = confusion_matrix(y, predicted)\n",
    "cm_df = pd.DataFrame(cm, index=[\"Negative\", \"Positive\"], columns=[\"Negative\", \"Positive\"])\n",
    "\n",
    "plt.figure(figsize=(5, 5))\n",
    "\n",
    "sns.set(font_scale=1)\n",
    "\n",
    "ax = sns.heatmap(cm_df, annot=True, square=True, fmt='d', linewidths=.2, cbar=0, cmap=plt.cm.Blues)\n",
    "ax.set_xticklabels(ax.get_xticklabels(), rotation=0)\n",
    "\n",
    "plt.ylabel(\"True labels\")\n",
    "plt.xlabel(\"Predicted labels\")\n",
    "plt.tight_layout()\n",
    "\n",
    "plt.show()\n",
    "\n",
    "print(classification_report(y, predicted, target_names=[\"Negative\", \"Positive\"]))"
   ]
  },
  {
   "cell_type": "code",
   "execution_count": 35,
   "metadata": {
    "colab": {
     "base_uri": "https://localhost:8080/",
     "height": 318
    },
    "executionInfo": {
     "elapsed": 594,
     "status": "ok",
     "timestamp": 1637221216613,
     "user": {
      "displayName": "Nguyễn Thanh Trung",
      "photoUrl": "https://lh3.googleusercontent.com/a-/AOh14GhDjbo_KQ5m0lYuNCZeAJzrmJsCzHpAEC7Yn1ze=s64",
      "userId": "10029280560270495038"
     },
     "user_tz": -420
    },
    "id": "2IVyK6exLdni",
    "outputId": "7b6d09c6-4e23-49b6-ed4d-ebac95d7e7d3"
   },
   "outputs": [
    {
     "name": "stdout",
     "output_type": "stream",
     "text": [
      "[0.    0.125 1.   ] [0.         0.54411765 1.        ] [2 1 0]\n"
     ]
    },
    {
     "data": {
      "image/png": "[encoded data removed]",
      "text/plain": [
       "<Figure size 432x288 with 1 Axes>"
      ]
     },
     "metadata": {},
     "output_type": "display_data"
    }
   ],
   "source": [
    "from sklearn.metrics import roc_curve, auc\n",
    "from itertools import cycle\n",
    "\n",
    "fpr, tpr, thresholds = roc_curve(y, predicted, pos_label=1)\n",
    "print(fpr, tpr, thresholds)\n",
    "\n",
    "\n",
    "plt.figure()\n",
    "lw = 2\n",
    "plt.plot(fpr, tpr, color=\"darkorange\",\n",
    "         lw=lw, label=\"ROC curve (area = %0.2f)\" % auc(fpr, tpr))\n",
    "plt.plot([0, 1], [0, 1], color=\"navy\", lw=lw, linestyle=\"--\")\n",
    "plt.xlim([0.0, 1.0])\n",
    "plt.ylim([0.0, 1.05])\n",
    "plt.xlabel(\"False Positive Rate\")\n",
    "plt.ylabel(\"True Positive Rate\")\n",
    "plt.title(\"Receiver operating characteristic example\")\n",
    "plt.legend(loc=\"lower right\")\n",
    "plt.show()"
   ]
  }
 ],
 "metadata": {
  "colab": {
   "authorship_tag": "ABX9TyPy+jUcSAsrFz2ptkfg8TH8",
   "collapsed_sections": [],
   "name": "Evaluation.ipynb",
   "provenance": []
  },
  "kernelspec": {
   "display_name": "Python 3 (ipykernel)",
   "language": "python",
   "name": "python3"
  },
  "language_info": {
   "codemirror_mode": {
    "name": "ipython",
    "version": 3
   },
   "file_extension": ".py",
   "mimetype": "text/x-python",
   "name": "python",
   "nbconvert_exporter": "python",
   "pygments_lexer": "ipython3",
   "version": "3.8.8"
  }
 },
 "nbformat": 4,
 "nbformat_minor": 1
}
